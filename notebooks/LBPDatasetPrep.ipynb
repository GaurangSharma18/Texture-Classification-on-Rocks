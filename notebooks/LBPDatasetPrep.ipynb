{
 "cells": [
  {
   "cell_type": "code",
   "execution_count": null,
   "id": "d8dd241a",
   "metadata": {},
   "outputs": [],
   "source": [
    "import numpy as np\n",
    "import matplotlib.pyplot as plt\n",
    "import matplotlib as mpl\n",
    "import imageio\n",
    "from skimage import feature\n",
    "import cv2\n",
    "from PIL import Image\n",
    "import glob\n",
    "import collections\n",
    "import pandas as pd\n",
    "import seaborn as sns\n",
    "from skimage import io\n",
    "from skimage.filters import threshold_otsu\n",
    "from skimage.filters.rank import entropy\n",
    "from skimage.morphology import disk\n",
    "import pandas as pd\n",
    "import os"
   ]
  },
  {
   "cell_type": "code",
   "execution_count": null,
   "id": "8e10f695",
   "metadata": {},
   "outputs": [],
   "source": [
    "image_list = []\n",
    "prevTail=\"Amphibolite\"\n",
    "count=0\n",
    "Y_label=[]\n",
    "for filename in glob.iglob('../All53Training/*/*.png'):\n",
    "    head, tail = os.path.split(filename)\n",
    "    head, tail = os.path.split(head)\n",
    "    if tail == prevTail:\n",
    "        Y_label.append(count)\n",
    "        continue\n",
    "    else:\n",
    "        prevTail=tail\n",
    "        count+=1\n",
    "        Y_label.append(count)\n",
    "    \n",
    "#print(Y_label)\n",
    "\n",
    "image_list_test = []\n",
    "Y_label_test=[]\n",
    "prevTail=\"Amphibolite\"\n",
    "count=0\n",
    "for filename in glob.iglob('../All53Testing/**/*.png'):\n",
    "    head, tail = os.path.split(filename)\n",
    "    head, tail = os.path.split(head)\n",
    "    if tail == prevTail:\n",
    "        Y_label_test.append(count)\n",
    "        continue\n",
    "    else:\n",
    "        prevTail=tail\n",
    "        count+=1\n",
    "        Y_label_test.append(count)\n",
    "    \n",
    "#print(Y_label)"
   ]
  },
  {
   "cell_type": "code",
   "execution_count": null,
   "id": "51ef20b3",
   "metadata": {},
   "outputs": [],
   "source": [
    "frequency = collections.Counter(Y_label)\n",
    "print(dict(frequency))\n"
   ]
  },
  {
   "cell_type": "code",
   "execution_count": null,
   "id": "13832a96",
   "metadata": {},
   "outputs": [],
   "source": [
    "frequency = collections.Counter(Y_label_test)\n",
    "print(dict(frequency))"
   ]
  },
  {
   "cell_type": "code",
   "execution_count": null,
   "id": "21e69655",
   "metadata": {},
   "outputs": [],
   "source": [
    "image_list = []\n",
    "patchSize = 120\n",
    "\n",
    "for filename in glob.glob('../All53Training/*/*.png'):\n",
    "    im=io.imread(filename)\n",
    "    im=cv2.cvtColor(im, cv2.COLOR_BGR2GRAY)\n",
    "    image_list.append(im)\n",
    "    \n",
    "\n",
    "image_list_test = []\n",
    "for filename in glob.glob('../All53Testing/**/*.png'):\n",
    "    im=io.imread(filename)\n",
    "    im=cv2.cvtColor(im, cv2.COLOR_BGR2GRAY)\n",
    "    #im = cv2.resize(im, (patchSize,patchSize), interpolation = cv2.INTER_AREA)\n",
    "    image_list_test.append(im)"
   ]
  },
  {
   "cell_type": "code",
   "execution_count": null,
   "id": "c9198015",
   "metadata": {},
   "outputs": [],
   "source": [
    "def cropPatches(image_list,Y_label,patchSize):\n",
    "      \n",
    "    numberOfRandomPatches=500   #Increase it if patch size increase, as most of it will get eliminate\n",
    "    numberOFActualPatches = 50\n",
    "    combinedPatches=[]\n",
    "    Y_patchLabels=[]\n",
    "    imageCount=0\n",
    "    for img in image_list:\n",
    "        entropy_img = entropy(img, disk(25))\n",
    "\n",
    "        #plt.figure()\n",
    "        #plt.imshow(img, cmap='gray') #Orignal Figure\n",
    "\n",
    "        #plt.figure()\n",
    "        #plt.hist(entropy_img.flat, bins=100, range=(0,5)) #Histogram\n",
    "        thresh = threshold_otsu(entropy_img)\n",
    "\n",
    "        binary = entropy_img <= thresh #Binarize the entropy image\n",
    "\n",
    "        #plt.figure()\n",
    "        #plt.imshow(entropy_img)\n",
    "        #plt.imshow(binary)\n",
    "\n",
    "        #Sum all pixels in the scratch region (values =1)\n",
    "        #scratch_area = np.sum(binary == 1)\n",
    "\n",
    "        # Plot random points and their patches location\n",
    "        result = np.where(binary == False)\n",
    "        imgRows=result[0]\n",
    "        imgCols=result[1]\n",
    "        randomIndex = np.random.choice(len(result[0]), numberOfRandomPatches)\n",
    "        colIndexes=imgRows[randomIndex]\n",
    "        rowIndexes=imgCols[randomIndex]\n",
    "\n",
    "        #plt.plot(rowIndexes,colIndexes,\"*r\")\n",
    "\n",
    "        patches = []\n",
    "        count=0\n",
    "        maxImageCount=0\n",
    "        for indxCount in rowIndexes:\n",
    "            A=binary[rowIndexes[count]:(rowIndexes[count] + patchSize), colIndexes[count]:(colIndexes[count] + patchSize)]\n",
    "\n",
    "            #select only relevent patches with 100% pattern\n",
    "            result1 = np.where(A == False)\n",
    "            if len(result1[0]) == patchSize*patchSize:\n",
    "                combinedPatches.append(img[rowIndexes[count]:(rowIndexes[count] + patchSize), colIndexes[count]:(colIndexes[count] + patchSize)])\n",
    "                patches.append(img[rowIndexes[count]:(rowIndexes[count] + patchSize), colIndexes[count]:(colIndexes[count] + patchSize)])\n",
    "                Y_patchLabels.append(Y_label[imageCount])\n",
    "                maxImageCount+=1\n",
    "                if (maxImageCount==numberOFActualPatches) or (indxCount == len(rowIndexes)):\n",
    "                    break\n",
    "            count+=1\n",
    "\n",
    "        ### display the image patches\n",
    "        #fig = plt.figure(figsize=(12, 12))\n",
    "        #for i, patch in enumerate(patches):\n",
    "        #    ax = fig.add_subplot(3, len(patches), len(patches)*1 + i + 1)\n",
    "        #    ax.imshow(patch, cmap=plt.cm.gray)\n",
    "        #    ax.set_xlabel('Cells %d' % (i + 1))\n",
    "\n",
    "        imageCount+=1\n",
    "    combinedPatches = np.array(combinedPatches)\n",
    "    Y_patchLabels = np.array(Y_patchLabels)\n",
    "    return combinedPatches,Y_patchLabels"
   ]
  },
  {
   "cell_type": "code",
   "execution_count": null,
   "id": "6cfe3c75",
   "metadata": {},
   "outputs": [],
   "source": [
    "X_train_patches,Y_train_patches = cropPatches(image_list,Y_label,patchSize)\n",
    "X_test_patches,Y_test_patches = cropPatches(image_list_test,Y_label_test,patchSize)"
   ]
  },
  {
   "cell_type": "code",
   "execution_count": null,
   "id": "fe56d3fc",
   "metadata": {},
   "outputs": [],
   "source": [
    "X_train_patches.shape"
   ]
  },
  {
   "cell_type": "code",
   "execution_count": null,
   "id": "d9664948",
   "metadata": {},
   "outputs": [],
   "source": [
    "Y_train_patches.shape"
   ]
  },
  {
   "cell_type": "code",
   "execution_count": null,
   "id": "74c4cf49",
   "metadata": {},
   "outputs": [],
   "source": [
    "X_test_patches.shape"
   ]
  },
  {
   "cell_type": "code",
   "execution_count": null,
   "id": "65686aa3",
   "metadata": {},
   "outputs": [],
   "source": [
    "Y_test_patches.shape"
   ]
  },
  {
   "cell_type": "code",
   "execution_count": null,
   "id": "52375dcd",
   "metadata": {},
   "outputs": [],
   "source": [
    "frequency = collections.Counter(Y_train_patches)\n",
    "print(dict(frequency))"
   ]
  },
  {
   "cell_type": "code",
   "execution_count": null,
   "id": "1da9525a",
   "metadata": {},
   "outputs": [],
   "source": [
    "frequency = collections.Counter(Y_test_patches)\n",
    "print(dict(frequency))"
   ]
  },
  {
   "cell_type": "code",
   "execution_count": null,
   "id": "b2a31d0e",
   "metadata": {},
   "outputs": [],
   "source": [
    "from numpy import savez_compressed\n",
    "savez_compressed('X_test_120_120_all.npz', X_test_patches)\n",
    "savez_compressed('Y_test_120_120_all.npz', Y_test_patches)\n",
    "savez_compressed('X_train_120_120_all.npz', X_train_patches)\n",
    "savez_compressed('Y_train_120_120_all.npz', Y_train_patches)"
   ]
  },
  {
   "cell_type": "code",
   "execution_count": null,
   "id": "4799e8b4",
   "metadata": {},
   "outputs": [],
   "source": []
  }
 ],
 "metadata": {
  "kernelspec": {
   "display_name": "Python 3 (ipykernel)",
   "language": "python",
   "name": "python3"
  },
  "language_info": {
   "codemirror_mode": {
    "name": "ipython",
    "version": 3
   },
   "file_extension": ".py",
   "mimetype": "text/x-python",
   "name": "python",
   "nbconvert_exporter": "python",
   "pygments_lexer": "ipython3",
   "version": "3.7.11"
  }
 },
 "nbformat": 4,
 "nbformat_minor": 5
}
