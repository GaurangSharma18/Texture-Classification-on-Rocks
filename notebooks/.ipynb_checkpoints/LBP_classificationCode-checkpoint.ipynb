{
 "cells": [
  {
   "cell_type": "code",
   "execution_count": null,
   "id": "0dd499f9",
   "metadata": {},
   "outputs": [],
   "source": [
    "import numpy as np\n",
    "import matplotlib.pyplot as plt\n",
    "import matplotlib as mpl\n",
    "import imageio\n",
    "from skimage import feature\n",
    "import cv2\n",
    "from PIL import Image\n",
    "import glob\n",
    "import collections\n",
    "import pandas as pd\n",
    "import seaborn as sns\n",
    "from skimage import io\n",
    "from skimage.filters import threshold_otsu\n",
    "from skimage.filters.rank import entropy\n",
    "from skimage.morphology import disk\n",
    "import pandas as pd\n",
    "import os\n",
    "\n",
    "from skimage.feature import local_binary_pattern\n",
    "from sklearn import preprocessing, metrics\n",
    "from sklearn.svm import LinearSVC\n",
    "from imblearn.over_sampling import SMOTE"
   ]
  },
  {
   "cell_type": "code",
   "execution_count": null,
   "id": "c93ab701",
   "metadata": {},
   "outputs": [],
   "source": [
    "X_train_file = np.load('../patches/all_120/X_train_120_120_all.npz')\n",
    "X_train_file.files\n",
    "X_train_orignal = X_train_file['arr_0']\n",
    "\n",
    "Y_train_file = np.load('../patches/all_120/Y_train_120_120_all.npz')\n",
    "Y_train_file.files\n",
    "Y_train_orignal = Y_train_file['arr_0']\n",
    "\n",
    "X_test_file = np.load('../patches/all_120/X_test_120_120_all.npz')\n",
    "X_test_file.files\n",
    "X_test_orignal = X_test_file['arr_0']\n",
    "\n",
    "Y_test_file = np.load('../patches/all_120/Y_test_120_120_all.npz')\n",
    "Y_test_file.files\n",
    "Y_test_orignal = Y_test_file['arr_0']"
   ]
  },
  {
   "cell_type": "code",
   "execution_count": null,
   "id": "8f10ecfd",
   "metadata": {},
   "outputs": [],
   "source": [
    "frequency = collections.Counter(Y_train_orignal)\n",
    "print(dict(frequency))"
   ]
  },
  {
   "cell_type": "code",
   "execution_count": null,
   "id": "e430cdd3",
   "metadata": {},
   "outputs": [],
   "source": [
    "def lbp_features(img, radius=1, sampling_pixels=8):\n",
    "    \n",
    "    # LBP operates in single channel images so if RGB images are provided\n",
    "    # we have to convert it to grayscale\n",
    "    if (len(img.shape) > 2):\n",
    "        img = img.astype(float)\n",
    "        # RGB to grayscale convertion using Luminance\n",
    "        img = img[:,:,0]*0.3 + img[:,:,1]*0.59 + img[:,:,2]*0.11\n",
    "\n",
    "    # converting to uint8 type for 256 graylevels\n",
    "    img = img.astype(np.uint8)\n",
    "    \n",
    "    # normalize values can also help improving description\n",
    "    i_min = np.min(img)\n",
    "    i_max = np.max(img)\n",
    "    if (i_max - i_min != 0):\n",
    "        img = (img - i_min)/(i_max-i_min)\n",
    "    \n",
    "    # compute LBP\n",
    "    lbp = feature.local_binary_pattern(img, sampling_pixels, radius, method=\"uniform\")\n",
    "    \n",
    "    # LBP returns a matrix with the codes, so we compute the histogram\n",
    "    (hist, _) = np.histogram(lbp.ravel(), bins=np.arange(0, sampling_pixels + 3), range=(0, sampling_pixels + 2))\n",
    "\n",
    "    # normalization\n",
    "    hist = hist.astype(\"float\")\n",
    "    hist /= (hist.sum() + 1e-6)\n",
    "    # return the histogram of Local Binary Patterns\n",
    "    return hist\n",
    "\n",
    "def Euclidean_distance(p, q):\n",
    "    dist = np.sqrt(np.sum(np.square(p-q)))\n",
    "    return dist"
   ]
  },
  {
   "cell_type": "code",
   "execution_count": null,
   "id": "acdc9abb",
   "metadata": {},
   "outputs": [],
   "source": [
    "lbpFeatures_train=np.array(np.zeros(26))\n",
    "\n",
    "for patch in X_train_orignal:\n",
    "    lbpFeatures_train = np.vstack([lbpFeatures_train,(lbp_features(patch,3,24))])\n",
    "lbpFeatures_train = np.delete(lbpFeatures_train, 0, 0)\n",
    "print(lbpFeatures_train.shape)\n",
    "\n",
    "lbpFeatures_test=np.array(np.zeros(26))\n",
    "\n",
    "for patch in X_test_orignal:\n",
    "    lbpFeatures_test = np.vstack([lbpFeatures_test,(lbp_features(patch,3,24))])\n",
    "lbpFeatures_test = np.delete(lbpFeatures_test, 0, 0)\n",
    "print(lbpFeatures_test.shape)"
   ]
  },
  {
   "cell_type": "code",
   "execution_count": null,
   "id": "76b4b481",
   "metadata": {},
   "outputs": [],
   "source": [
    "from imblearn.over_sampling import SMOTE\n",
    "\n",
    "oversample = SMOTE()\n",
    "lbpFeatures_train, Y_train_orignal = oversample.fit_resample(lbpFeatures_train, Y_train_orignal)"
   ]
  },
  {
   "cell_type": "code",
   "execution_count": null,
   "id": "2a0c6002",
   "metadata": {},
   "outputs": [],
   "source": [
    "lbpFeatures_train"
   ]
  },
  {
   "cell_type": "code",
   "execution_count": null,
   "id": "66ab949b",
   "metadata": {},
   "outputs": [],
   "source": [
    "clf = LinearSVC(random_state=0, tol=1e-5)\n",
    "clf.fit(lbpFeatures_train, Y_train_orignal)"
   ]
  },
  {
   "cell_type": "code",
   "execution_count": null,
   "id": "9c37649b",
   "metadata": {},
   "outputs": [],
   "source": [
    "# test set evaluation\n",
    "prediction = clf.predict(lbpFeatures_test)\n",
    "# visualization\n",
    "cmat = metrics.confusion_matrix(prediction,Y_test_orignal)\n",
    "s = sns.heatmap(cmat,annot=True)\n",
    "s.set(xlabel='Predicted', ylabel='Actual')\n",
    "acc = cmat.trace() / cmat.sum()\n",
    "print('Accuracy: {0:5.2f}%'.format(acc*100))"
   ]
  },
  {
   "cell_type": "code",
   "execution_count": null,
   "id": "4184c0eb",
   "metadata": {},
   "outputs": [],
   "source": [
    "frequency = collections.Counter(prediction)\n",
    "print(dict(frequency))"
   ]
  },
  {
   "cell_type": "code",
   "execution_count": null,
   "id": "bfebeaa2",
   "metadata": {},
   "outputs": [],
   "source": [
    "frequency = collections.Counter(Y_test_orignal)\n",
    "print(dict(frequency))"
   ]
  },
  {
   "cell_type": "code",
   "execution_count": null,
   "id": "b4865b4c",
   "metadata": {},
   "outputs": [],
   "source": []
  }
 ],
 "metadata": {
  "kernelspec": {
   "display_name": "Python 3 (ipykernel)",
   "language": "python",
   "name": "python3"
  },
  "language_info": {
   "codemirror_mode": {
    "name": "ipython",
    "version": 3
   },
   "file_extension": ".py",
   "mimetype": "text/x-python",
   "name": "python",
   "nbconvert_exporter": "python",
   "pygments_lexer": "ipython3",
   "version": "3.7.11"
  }
 },
 "nbformat": 4,
 "nbformat_minor": 5
}
